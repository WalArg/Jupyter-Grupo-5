{
 "cells": [
  {
   "cell_type": "code",
   "execution_count": null,
   "metadata": {},
   "outputs": [],
   "source": [
    "import pandas as pd\n",
    "import numpy as np\n",
    "import matplotlib as mpl\n",
    "import matplotlib.pyplot as plt\n",
    "import seaborn as sns"
   ]
  },
  {
   "cell_type": "code",
   "execution_count": null,
   "metadata": {},
   "outputs": [],
   "source": [
    "df_final=df_final.replace('BORRAR',0)"
   ]
  },
  {
   "cell_type": "code",
   "execution_count": 2,
   "metadata": {},
   "outputs": [],
   "source": [
    "#Cambio todas las palabras incorrectas"
   ]
  },
  {
   "cell_type": "code",
   "execution_count": null,
   "metadata": {},
   "outputs": [],
   "source": [
    "patron0='\\Ã¡'\n",
    "regex=re.compile(patron0, flags = re.IGNORECASE)\n",
    "df_final.place_name=df_final.place_name.apply(lambda x: regex.sub('á',x))\n",
    "df_final.state_name=df_final.state_name.apply(lambda x: regex.sub('á',x))\n",
    "patron1='\\Ã©'\n",
    "regex1=re.compile(patron1, flags = re.IGNORECASE)\n",
    "df_final.place_name=df_final.place_name.apply(lambda x: regex1.sub('é',x))\n",
    "df_final.state_name=df_final.state_name.apply(lambda x: regex1.sub('é',x))\n",
    "patron2='Ã\\xad'\n",
    "regex2=re.compile(patron2, flags = re.IGNORECASE)\n",
    "df_final.state_name=df_final.state_name.apply(lambda x: regex2.sub('í',x))\n",
    "df_final.place_name=df_final.place_name.apply(lambda x: regex2.sub('í',x))\n",
    "patron3='\\Ã\\'\\''\n",
    "regex3=re.compile(patron3, flags = re.IGNORECASE)\n",
    "df_final.state_name=df_final.state_name.apply(lambda x: regex3.sub('í',x))\n",
    "df_final.place_name=df_final.place_name.apply(lambda x: regex3.sub('í',x))\n",
    "patron4='\\Ã³'\n",
    "regex4=re.compile(patron4, flags = re.IGNORECASE)\n",
    "df_final.state_name=df_final.state_name.apply(lambda x: regex4.sub('ó',x))\n",
    "df_final.place_name=df_final.place_name.apply(lambda x: regex4.sub('ó',x))\n",
    "patron5='\\Ãº'\n",
    "regex5=re.compile(patron5, flags = re.IGNORECASE)\n",
    "df_final.state_name=df_final.state_name.apply(lambda x: regex5.sub('ú',x))\n",
    "df_final.place_name=df_final.place_name.apply(lambda x: regex5.sub('ú',x))\n",
    "patron6='\\Ã\\±'\n",
    "regex5=re.compile(patron6, flags = re.IGNORECASE)\n",
    "df_final.state_name=df_final.state_name.apply(lambda x: regex5.sub('ñ',x))\n",
    "df_final.place_name=df_final.place_name.apply(lambda x: regex5.sub('ñ',x))"
   ]
  },
  {
   "cell_type": "code",
   "execution_count": null,
   "metadata": {},
   "outputs": [],
   "source": [
    "#Creo df de capital y del resto de las provincias"
   ]
  },
  {
   "cell_type": "code",
   "execution_count": null,
   "metadata": {},
   "outputs": [],
   "source": [
    "df_final_grafico_walter=df_final.loc[:,['state_name','place_name','property_type','surface_total_clean']]\n",
    "\n",
    "df_final_mascara_capital=df_final_grafico_walter.state_name == 'Capital Federal'\n",
    "df_final_mascara_resto=df_final_grafico_walter.state_name != 'Capital Federal'\n",
    "df_final_capital=df_final_grafico_walter[df_final_mascara_capital]\n",
    "df_final_resto=df_final_grafico_walter[df_final_mascara_resto]"
   ]
  },
  {
   "cell_type": "code",
   "execution_count": null,
   "metadata": {},
   "outputs": [],
   "source": [
    "#Creo tabla pivot de capital"
   ]
  },
  {
   "cell_type": "code",
   "execution_count": null,
   "metadata": {},
   "outputs": [],
   "source": [
    "surface_categories = pd.cut(df_final_capital.surface_total_clean, [20, 50, 100, 200, 500, 1000])\n",
    "pivot_capital=df_final_capital.pivot_table(index=['property_type', surface_categories], columns='place_name',aggfunc={'surface_total_clean': lambda x: np.count_nonzero(x)})\n",
    "pivot_capital.replace(np.NaN, '0')"
   ]
  },
  {
   "cell_type": "code",
   "execution_count": null,
   "metadata": {},
   "outputs": [],
   "source": [
    "#Creo tabla pivot de provincias"
   ]
  },
  {
   "cell_type": "code",
   "execution_count": null,
   "metadata": {},
   "outputs": [],
   "source": [
    "surface_categories_resto = pd.cut(df_final_resto.surface_total_clean, [20, 50, 100, 200, 500, 1000])\n",
    "pivot_resto=df_final_resto.pivot_table(index=['property_type', surface_categories_resto], columns=['state_name','place_name'],aggfunc={'surface_total_clean': lambda x: np.count_nonzero(x)})\n",
    "pivot_resto.replace(np.NaN, '0')"
   ]
  },
  {
   "cell_type": "code",
   "execution_count": null,
   "metadata": {},
   "outputs": [],
   "source": [
    "#Grafico (feo) de superficie contra capital"
   ]
  },
  {
   "cell_type": "code",
   "execution_count": null,
   "metadata": {},
   "outputs": [],
   "source": [
    "with sns.axes_style('white'):\n",
    "    g = sns.catplot(y='place_name', data=df_final_capital, aspect=1, kind=\"count\", color='red', height=15)\n",
    "#    g.set_xticklabels(store.property_type)\n",
    "print(df_final_capital.surface_total_clean.value_counts())"
   ]
  },
  {
   "cell_type": "code",
   "execution_count": null,
   "metadata": {},
   "outputs": [],
   "source": [
    "#Grafico (feo) de superficie contra prvincias "
   ]
  },
  {
   "cell_type": "code",
   "execution_count": null,
   "metadata": {},
   "outputs": [],
   "source": [
    "with sns.axes_style('white'):\n",
    "    g = sns.catplot(y=\"state_name\", data=df_final_resto, aspect=1, kind=\"count\", color='red', height=15)\n",
    "#    g.set_xticklabels(store.property_type)\n",
    "print(df_final_resto.surface_total_clean.value_counts())"
   ]
  }
 ],
 "metadata": {
  "kernelspec": {
   "display_name": "Python 3",
   "language": "python",
   "name": "python3"
  },
  "language_info": {
   "codemirror_mode": {
    "name": "ipython",
    "version": 3
   },
   "file_extension": ".py",
   "mimetype": "text/x-python",
   "name": "python",
   "nbconvert_exporter": "python",
   "pygments_lexer": "ipython3",
   "version": "3.7.9"
  }
 },
 "nbformat": 4,
 "nbformat_minor": 4
}
